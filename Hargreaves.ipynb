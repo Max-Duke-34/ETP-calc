{
 "cells": [
  {
   "cell_type": "markdown",
   "id": "75e7f9ee-88a6-470e-9a0a-abd69051986a",
   "metadata": {},
   "source": [
    "(Source des équations : FAO paper 56)"
   ]
  },
  {
   "cell_type": "markdown",
   "id": "7854268f-d7fc-4d1c-9520-d165628bef4c",
   "metadata": {},
   "source": [
    "### **Formule de Hargreaves** : \n",
    "\n",
    "$ET_{Ha}=0,0023(T_a+17,8)(T_x-T_n)^0,5R_{g,0}$\n",
    "\n",
    "$R_{g,0}$ : Rayonnement solaire extra terrestre (mm/j)\n",
    "\n",
    "$T_a$ : Température moyenne de l'air (°C)\n",
    "\n",
    "$T_x$ : Température maximale (°C)\n",
    "\n",
    "$T_n$ : Température minimale (°C)\n"
   ]
  },
  {
   "cell_type": "markdown",
   "id": "b00767ac-7db4-441d-a398-e3a6fe6c408e",
   "metadata": {},
   "source": [
    "Pour obtenir le rayonnement solaire extra terrestre : \n",
    "$R_a=\\frac{24(60)}{\\pi}G_{sc}d_r[\\omega_s.sin(\\phi)+cos(\\delta).sin(\\omega_s)]$\n",
    "\n",
    "$R_a$ : radiation extraterrestre (MJ/m²/j)\n",
    "\n",
    "$G_{sc}$ : Constante solaire : 0,082 MJ/m²/min\n",
    "\n",
    "$d_r$ : inverse de la distance relative terre / soleil : $1+0,033cos(\\frac{2pi}{365}J)$  avec $J$ N° du jour dans l'année\n",
    "\n",
    "$\\omega_s$ : angle heure soleil couchant : $arccos|-tan(\\phi)tan(\\delta)]$\n",
    "\n",
    "$\\phi$ : latitude (rad) : $\\frac{pi}{180}[decimal deg]$\n",
    "\n"
   ]
  },
  {
   "cell_type": "code",
   "execution_count": 25,
   "id": "eeaa1d22-12e0-4481-97c9-2d784d944bb4",
   "metadata": {},
   "outputs": [
    {
     "name": "stdout",
     "output_type": "stream",
     "text": [
      "43.6169\n"
     ]
    }
   ],
   "source": [
    "# Mise en application avec Mauguio : 43°37'01'' N, 4°00'33'' E\n",
    "# Conversion de la latitude en degrés décimaux \n",
    "lat=43+(37/60)+(01/3600)\n",
    "lat_rounded = round(lat, digits=4)\n",
    "println(lat_rounded)\n"
   ]
  },
  {
   "cell_type": "code",
   "execution_count": 29,
   "id": "45c33657-8ee0-4db7-bc7a-94dc98125c77",
   "metadata": {},
   "outputs": [
    {
     "name": "stdout",
     "output_type": "stream",
     "text": [
      "0.7613\n"
     ]
    }
   ],
   "source": [
    "# Détermination de l'angle phi\n",
    "phi=lat*(pi/180)\n",
    "phi_rounded = round(phi, digits=4)\n",
    "println(phi_rounded)\n"
   ]
  },
  {
   "cell_type": "markdown",
   "id": "1f38ffb3-2037-408c-9cd4-95c431add7a7",
   "metadata": {},
   "source": [
    "Détermination de l'angle $\\delta$ : \n",
    "\n",
    "$\\delta=0,409sin(\\frac{2\\pi}{365}J-1,39)$\n"
   ]
  },
  {
   "cell_type": "code",
   "execution_count": 45,
   "id": "e28d3980-db1f-45eb-bd75-039e23271447",
   "metadata": {},
   "outputs": [
    {
     "name": "stdout",
     "output_type": "stream",
     "text": [
      "338"
     ]
    }
   ],
   "source": [
    "#Détermination de delta\n",
    "# # Trouver le numéro du jour : \n",
    "using Dates\n",
    "\n",
    "t = Date(2024, 12, 3)\n",
    "day_number = Dates.dayofyear(t)\n",
    "print(day_number)\n"
   ]
  },
  {
   "cell_type": "code",
   "execution_count": 63,
   "id": "3876f9ba-2df6-4fe1-acd9-929e8fd31303",
   "metadata": {},
   "outputs": [
    {
     "name": "stdout",
     "output_type": "stream",
     "text": [
      "-0.3926\n"
     ]
    }
   ],
   "source": [
    "# Calcul de delta\n",
    "delta = 0.409 * sin((2 * π) / 365 * day_number - 1.39)\n",
    "\n",
    "# Afficher delta avec une précision de 6 décimales\n",
    "delta_rounded = round(delta, digits=4)\n",
    "println(delta_rounded)\n",
    "\n",
    "\n",
    "\n"
   ]
  },
  {
   "cell_type": "markdown",
   "id": "e0fbf62f-1122-41bd-af93-d16ea5dc3082",
   "metadata": {},
   "source": [
    "Convertir d'abord phi et delta en radians !"
   ]
  },
  {
   "cell_type": "code",
   "execution_count": 95,
   "id": "da6cfb8e-62de-4579-b366-a3a0cfb37bef",
   "metadata": {},
   "outputs": [
    {
     "name": "stdout",
     "output_type": "stream",
     "text": [
      "-0.0069\n",
      "0.0133\n"
     ]
    }
   ],
   "source": [
    "deltaR = delta_rounded*π/180\n",
    "deltaR_rounded = round(deltaR, digits=4)\n",
    "\n",
    "phiR = phi_rounded*π/180\n",
    "phiR_rounded = round(phiR, digits=4)\n",
    "println(deltaR_rounded)\n",
    "println(phiR_rounded)"
   ]
  },
  {
   "cell_type": "markdown",
   "id": "bb04f427-c876-4571-9603-b682e70cc54a",
   "metadata": {},
   "source": [
    "Avec $\\delta$ et $\\phi$ déterminés, on peut trouver $\\omega$ : \n",
    "$\\omega=arccos|-tan(\\phi)tan(\\delta)]$"
   ]
  },
  {
   "cell_type": "code",
   "execution_count": 107,
   "id": "5dfc362e-5f4c-4e04-841a-39959a85dfa3",
   "metadata": {},
   "outputs": [
    {
     "name": "stdout",
     "output_type": "stream",
     "text": [
      "1.5707\n"
     ]
    }
   ],
   "source": [
    "omega = acos(-tan(phiR_rounded)*tan(deltaR_rounded))\n",
    "omega_rounded = round(omega, digits=4)\n",
    "println(omega_rounded)"
   ]
  },
  {
   "cell_type": "markdown",
   "id": "94db9b92-855f-44ef-8856-eec02b7aebca",
   "metadata": {},
   "source": [
    "Avec ça, on peut enfin déterminer Ra comme suit : \n",
    "\n",
    "$R_a=\\frac{24(60)}{\\pi}G_{sc}d_r[\\omega_s.sin(\\phi)+cos(\\delta).sin(\\omega_s)]$"
   ]
  },
  {
   "cell_type": "code",
   "execution_count": null,
   "id": "ee82e0d3-8b46-4956-abe1-ad6ad608abef",
   "metadata": {},
   "outputs": [
    {
     "name": "stdout",
     "output_type": "stream",
     "text": [
      "11.1426"
     ]
    }
   ],
   "source": [
    "# Constantes et variables d'entrée\n",
    "day_number = 338                      # Numéro du jour \n",
    "phiR_rounded = 43.6169 * π / 180      \n",
    "deltaR_rounded = -0.069              \n",
    "omega_rounded = 1.5707               \n",
    "\n",
    "# Constante solaire\n",
    "Gsc = 0.082  # Constante solaire [MJ/m^2/min]\n",
    "\n",
    "# Calcul de Ra\n",
    "Ra = ((24 * 60) / π) * Gsc * (1 + 0.033 * cos((2 * π / 365) * day_number)) *  (omega_rounded * sin(phiR_rounded) * sin(deltaR_rounded) + cos(phiR_rounded) * cos(deltaR_rounded) * sin(omega_rounded))\n",
    "\n",
    "Ra_rounded = round(Ra, digits=4)\n",
    "print(Ra_rounded)\n",
    "\n"
   ]
  },
  {
   "cell_type": "markdown",
   "id": "93da8e7a-fafb-464a-b36f-58a25a36ccca",
   "metadata": {},
   "source": [
    "On obtient un $Ra$ de 11,1426 MJ/m²/j"
   ]
  },
  {
   "cell_type": "markdown",
   "id": "949fd118-9051-42f5-986f-1fd3ff516aca",
   "metadata": {},
   "source": [
    "On peut enfin appliquer la  **Formule de Hargreaves** : \n",
    "\n",
    "$ET_{Ha}=0,0023(T_a+17,8)(T_x-T_n)^0,5R_{g,0}$\n",
    "\n",
    "$R_{g,0}$ : Rayonnement solaire extra terrestre (mm/j)\n",
    "\n",
    "$T_a$ : Température moyenne de l'air (°C)\n",
    "\n",
    "$T_x$ : Température maximale (°C)\n",
    "\n",
    "$T_n$ : Température minimale (°C)\n"
   ]
  },
  {
   "cell_type": "code",
   "execution_count": null,
   "id": "d4f1cf19-3bd9-4e73-b85d-678d8dbbb596",
   "metadata": {},
   "outputs": [
    {
     "name": "stdout",
     "output_type": "stream",
     "text": [
      "7.3"
     ]
    }
   ],
   "source": [
    "# Calculer la température moyenne du jour (°C)\n",
    "Tx=8.4\n",
    "Tn=6.2\n",
    "Ta=(Tx+Tn)/2\n",
    "Ta_r = round(Ta, digits = 4)\n",
    "\n",
    "print(Ta_r)"
   ]
  },
  {
   "cell_type": "code",
   "execution_count": 175,
   "id": "4eb6197c-b336-42ba-8887-e2daae83bf38",
   "metadata": {},
   "outputs": [
    {
     "name": "stdout",
     "output_type": "stream",
     "text": [
      "0.954"
     ]
    }
   ],
   "source": [
    "ETh = 0.0023 * (Ta_r + 17.8) * (Tx - Tn)^0.5 * Ra_rounded\n",
    "ETh_r = round(ETh, digits = 3)\n",
    "print(ETh_r)"
   ]
  },
  {
   "cell_type": "markdown",
   "id": "bb77c469-6273-4cdd-a9de-2ba7264a822e",
   "metadata": {},
   "source": [
    "Avec la méthode de Hargreaves, on obtient, avec les données du 3/12/2022, un ETP de 0,954mm/j\n",
    "\n"
   ]
  },
  {
   "cell_type": "code",
   "execution_count": null,
   "id": "35e6eb99-f342-47e6-ad08-1d997d2c3404",
   "metadata": {},
   "outputs": [],
   "source": []
  }
 ],
 "metadata": {
  "kernelspec": {
   "display_name": "Julia 1.11.1",
   "language": "julia",
   "name": "julia-1.11"
  },
  "language_info": {
   "file_extension": ".jl",
   "mimetype": "application/julia",
   "name": "julia",
   "version": "1.11.1"
  }
 },
 "nbformat": 4,
 "nbformat_minor": 5
}
