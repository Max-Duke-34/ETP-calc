{
 "cells": [
  {
   "cell_type": "markdown",
   "metadata": {},
   "source": [
    "# ***Calcul ET0***\n"
   ]
  },
  {
   "cell_type": "markdown",
   "metadata": {},
   "source": [
    "### **Formule de Penman** (1948)\n",
    "\n",
    "$LE=\\frac{\\Delta(R_n-S)+\\rho.cp\\frac{De{sat}}{r_a}}{\\Delta+\\gamma}$\n",
    "\n",
    "$Delta$ : Pente de la courbe de pression de vapeur saturate à la T° $Ta$\n",
    "\n",
    "$\\gamma$ : constante psychrométrique\n",
    "\n",
    "$De_{sat}$ : déficit de pression de vapeur dans l'air = $e_{sat}(Ta)-e_a$\n",
    "\n",
    "$r_a$ : fonction empirique linéaire de la vitesse du vent\n"
   ]
  },
  {
   "cell_type": "markdown",
   "metadata": {},
   "source": [
    "\n",
    "### **Formule de Penman - FAO** : \n",
    "\n",
    "$ET_{0}=\\frac{{0,408\\Delta(R_{n}-G)+\\gamma\\frac{900}{T+273}}u_{2}(e_{s}-e_{a})}{{\\Delta+\\gamma(1+0,43u_{2})}}$\n",
    "\n",
    "$R_n$ : Radiation nette ($MJ/m^2/j$)\n",
    "\n",
    "$G$ : densité de flux de chaleur du sol ($MJ/m^2/j$)\n",
    "\n",
    "$T$ : Température moyenne journalière à 2m (°C)\n",
    "\n",
    "$u^2$ : Vitesse du vent à 2m ($m/s$)\n",
    "\n",
    "$e_s$ : Pression de vapeur saturante (kPa)\n",
    "\n",
    "$e_a$ : Pression de vapeur réelle (kPa)\n"
   ]
  },
  {
   "cell_type": "markdown",
   "metadata": {},
   "source": [
    "### **Formule de Hargreaves** : \n",
    "\n",
    "$ET_{Ha}=0,0023(T_a+17,8)(T_x-T_n)^0,5R_{g,0}$\n",
    "\n",
    "$R_{g,0}$ : Rayonnement solaire extra terrestre (mm/j)\n",
    "\n",
    "$T_a$ : Température moyenne de l'air (°C)\n",
    "\n",
    "$T_x$ : Température maximale (°C)\n",
    "\n",
    "$T_n$ : Température minimale (°C)\n"
   ]
  },
  {
   "cell_type": "markdown",
   "metadata": {},
   "source": [
    "### **Formule de Turc** : \n",
    "\n",
    "$ET_{Tu}=0,31\\frac{T}{T+15}(R_g+2,09)$\n",
    "\n",
    "Si $HR<50%$, multiplier par $(1+\\frac{50-HR}{70})$\n",
    "\n",
    "$T$ : Température moyenne de l'air (°C)\n",
    "\n",
    "$R_g$ : Rayonnement global ($MJ/m^2/j$)"
   ]
  },
  {
   "cell_type": "markdown",
   "metadata": {},
   "source": [
    "### **Formule de Thorthwaite** :\n",
    "\n",
    "$ET_{Th}=(16/nj)(10(Ta)/I)^a(F(\\phi))$\n",
    "\n",
    "$ET_{Th}$ : en mm/j\n",
    "\n",
    "$nj$ : nombre de jours du mois considéré\n",
    "\n",
    "$Ta$ : température moyenne mensuelle sous abri\n",
    "\n",
    "$F(\\phi) = DJ/12$, avec $DJ$ : durée du jour en heure\n",
    "\n",
    "$I$ : indice thermique annuel : $I = \\sum^{12}_{i=1}(Ta_i/5)^1,514$\n",
    "\n",
    "\n"
   ]
  }
 ],
 "metadata": {
  "kernelspec": {
   "display_name": "Julia 1.11.1",
   "language": "julia",
   "name": "julia-1.11"
  },
  "language_info": {
   "file_extension": ".jl",
   "mimetype": "application/julia",
   "name": "julia",
   "version": "1.11.1"
  }
 },
 "nbformat": 4,
 "nbformat_minor": 2
}
